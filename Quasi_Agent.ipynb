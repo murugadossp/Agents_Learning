{
  "nbformat": 4,
  "nbformat_minor": 0,
  "metadata": {
    "colab": {
      "provenance": [],
      "gpuType": "T4",
      "include_colab_link": true
    },
    "kernelspec": {
      "name": "python3",
      "display_name": "Python 3"
    },
    "language_info": {
      "name": "python"
    },
    "accelerator": "GPU"
  },
  "cells": [
    {
      "cell_type": "markdown",
      "metadata": {
        "id": "view-in-github",
        "colab_type": "text"
      },
      "source": [
        "<a href=\"https://colab.research.google.com/github/murugadossp/Agents_Learning/blob/main/Quasi_Agent.ipynb\" target=\"_parent\"><img src=\"https://colab.research.google.com/assets/colab-badge.svg\" alt=\"Open In Colab\"/></a>"
      ]
    },
    {
      "cell_type": "code",
      "source": [
        "!!pip install litellm\n"
      ],
      "metadata": {
        "id": "KEYrzG2vB8Ip",
        "colab": {
          "base_uri": "https://localhost:8080/"
        },
        "outputId": "a8060279-3eab-404e-ab50-abe3fbaeca6a"
      },
      "execution_count": 1,
      "outputs": [
        {
          "output_type": "execute_result",
          "data": {
            "text/plain": [
              "['Collecting litellm',\n",
              " '  Downloading litellm-1.70.2-py3-none-any.whl.metadata (38 kB)',\n",
              " 'Requirement already satisfied: aiohttp in /usr/local/lib/python3.11/dist-packages (from litellm) (3.11.15)',\n",
              " 'Requirement already satisfied: click in /usr/local/lib/python3.11/dist-packages (from litellm) (8.2.0)',\n",
              " 'Requirement already satisfied: httpx>=0.23.0 in /usr/local/lib/python3.11/dist-packages (from litellm) (0.28.1)',\n",
              " 'Requirement already satisfied: importlib-metadata>=6.8.0 in /usr/local/lib/python3.11/dist-packages (from litellm) (8.7.0)',\n",
              " 'Requirement already satisfied: jinja2<4.0.0,>=3.1.2 in /usr/local/lib/python3.11/dist-packages (from litellm) (3.1.6)',\n",
              " 'Requirement already satisfied: jsonschema<5.0.0,>=4.22.0 in /usr/local/lib/python3.11/dist-packages (from litellm) (4.23.0)',\n",
              " 'Collecting openai<1.76.0,>=1.68.2 (from litellm)',\n",
              " '  Downloading openai-1.75.0-py3-none-any.whl.metadata (25 kB)',\n",
              " 'Requirement already satisfied: pydantic<3.0.0,>=2.0.0 in /usr/local/lib/python3.11/dist-packages (from litellm) (2.11.4)',\n",
              " 'Collecting python-dotenv>=0.2.0 (from litellm)',\n",
              " '  Downloading python_dotenv-1.1.0-py3-none-any.whl.metadata (24 kB)',\n",
              " 'Requirement already satisfied: tiktoken>=0.7.0 in /usr/local/lib/python3.11/dist-packages (from litellm) (0.9.0)',\n",
              " 'Requirement already satisfied: tokenizers in /usr/local/lib/python3.11/dist-packages (from litellm) (0.21.1)',\n",
              " 'Requirement already satisfied: anyio in /usr/local/lib/python3.11/dist-packages (from httpx>=0.23.0->litellm) (4.9.0)',\n",
              " 'Requirement already satisfied: certifi in /usr/local/lib/python3.11/dist-packages (from httpx>=0.23.0->litellm) (2025.4.26)',\n",
              " 'Requirement already satisfied: httpcore==1.* in /usr/local/lib/python3.11/dist-packages (from httpx>=0.23.0->litellm) (1.0.9)',\n",
              " 'Requirement already satisfied: idna in /usr/local/lib/python3.11/dist-packages (from httpx>=0.23.0->litellm) (3.10)',\n",
              " 'Requirement already satisfied: h11>=0.16 in /usr/local/lib/python3.11/dist-packages (from httpcore==1.*->httpx>=0.23.0->litellm) (0.16.0)',\n",
              " 'Requirement already satisfied: zipp>=3.20 in /usr/local/lib/python3.11/dist-packages (from importlib-metadata>=6.8.0->litellm) (3.21.0)',\n",
              " 'Requirement already satisfied: MarkupSafe>=2.0 in /usr/local/lib/python3.11/dist-packages (from jinja2<4.0.0,>=3.1.2->litellm) (3.0.2)',\n",
              " 'Requirement already satisfied: attrs>=22.2.0 in /usr/local/lib/python3.11/dist-packages (from jsonschema<5.0.0,>=4.22.0->litellm) (25.3.0)',\n",
              " 'Requirement already satisfied: jsonschema-specifications>=2023.03.6 in /usr/local/lib/python3.11/dist-packages (from jsonschema<5.0.0,>=4.22.0->litellm) (2025.4.1)',\n",
              " 'Requirement already satisfied: referencing>=0.28.4 in /usr/local/lib/python3.11/dist-packages (from jsonschema<5.0.0,>=4.22.0->litellm) (0.36.2)',\n",
              " 'Requirement already satisfied: rpds-py>=0.7.1 in /usr/local/lib/python3.11/dist-packages (from jsonschema<5.0.0,>=4.22.0->litellm) (0.24.0)',\n",
              " 'Requirement already satisfied: distro<2,>=1.7.0 in /usr/local/lib/python3.11/dist-packages (from openai<1.76.0,>=1.68.2->litellm) (1.9.0)',\n",
              " 'Requirement already satisfied: jiter<1,>=0.4.0 in /usr/local/lib/python3.11/dist-packages (from openai<1.76.0,>=1.68.2->litellm) (0.9.0)',\n",
              " 'Requirement already satisfied: sniffio in /usr/local/lib/python3.11/dist-packages (from openai<1.76.0,>=1.68.2->litellm) (1.3.1)',\n",
              " 'Requirement already satisfied: tqdm>4 in /usr/local/lib/python3.11/dist-packages (from openai<1.76.0,>=1.68.2->litellm) (4.67.1)',\n",
              " 'Requirement already satisfied: typing-extensions<5,>=4.11 in /usr/local/lib/python3.11/dist-packages (from openai<1.76.0,>=1.68.2->litellm) (4.13.2)',\n",
              " 'Requirement already satisfied: annotated-types>=0.6.0 in /usr/local/lib/python3.11/dist-packages (from pydantic<3.0.0,>=2.0.0->litellm) (0.7.0)',\n",
              " 'Requirement already satisfied: pydantic-core==2.33.2 in /usr/local/lib/python3.11/dist-packages (from pydantic<3.0.0,>=2.0.0->litellm) (2.33.2)',\n",
              " 'Requirement already satisfied: typing-inspection>=0.4.0 in /usr/local/lib/python3.11/dist-packages (from pydantic<3.0.0,>=2.0.0->litellm) (0.4.0)',\n",
              " 'Requirement already satisfied: regex>=2022.1.18 in /usr/local/lib/python3.11/dist-packages (from tiktoken>=0.7.0->litellm) (2024.11.6)',\n",
              " 'Requirement already satisfied: requests>=2.26.0 in /usr/local/lib/python3.11/dist-packages (from tiktoken>=0.7.0->litellm) (2.32.3)',\n",
              " 'Requirement already satisfied: aiohappyeyeballs>=2.3.0 in /usr/local/lib/python3.11/dist-packages (from aiohttp->litellm) (2.6.1)',\n",
              " 'Requirement already satisfied: aiosignal>=1.1.2 in /usr/local/lib/python3.11/dist-packages (from aiohttp->litellm) (1.3.2)',\n",
              " 'Requirement already satisfied: frozenlist>=1.1.1 in /usr/local/lib/python3.11/dist-packages (from aiohttp->litellm) (1.6.0)',\n",
              " 'Requirement already satisfied: multidict<7.0,>=4.5 in /usr/local/lib/python3.11/dist-packages (from aiohttp->litellm) (6.4.3)',\n",
              " 'Requirement already satisfied: propcache>=0.2.0 in /usr/local/lib/python3.11/dist-packages (from aiohttp->litellm) (0.3.1)',\n",
              " 'Requirement already satisfied: yarl<2.0,>=1.17.0 in /usr/local/lib/python3.11/dist-packages (from aiohttp->litellm) (1.20.0)',\n",
              " 'Requirement already satisfied: huggingface-hub<1.0,>=0.16.4 in /usr/local/lib/python3.11/dist-packages (from tokenizers->litellm) (0.31.2)',\n",
              " 'Requirement already satisfied: filelock in /usr/local/lib/python3.11/dist-packages (from huggingface-hub<1.0,>=0.16.4->tokenizers->litellm) (3.18.0)',\n",
              " 'Requirement already satisfied: fsspec>=2023.5.0 in /usr/local/lib/python3.11/dist-packages (from huggingface-hub<1.0,>=0.16.4->tokenizers->litellm) (2025.3.2)',\n",
              " 'Requirement already satisfied: packaging>=20.9 in /usr/local/lib/python3.11/dist-packages (from huggingface-hub<1.0,>=0.16.4->tokenizers->litellm) (24.2)',\n",
              " 'Requirement already satisfied: pyyaml>=5.1 in /usr/local/lib/python3.11/dist-packages (from huggingface-hub<1.0,>=0.16.4->tokenizers->litellm) (6.0.2)',\n",
              " 'Requirement already satisfied: charset-normalizer<4,>=2 in /usr/local/lib/python3.11/dist-packages (from requests>=2.26.0->tiktoken>=0.7.0->litellm) (3.4.2)',\n",
              " 'Requirement already satisfied: urllib3<3,>=1.21.1 in /usr/local/lib/python3.11/dist-packages (from requests>=2.26.0->tiktoken>=0.7.0->litellm) (2.4.0)',\n",
              " 'Downloading litellm-1.70.2-py3-none-any.whl (7.9 MB)',\n",
              " '\\x1b[?25l   \\x1b[90m━━━━━━━━━━━━━━━━━━━━━━━━━━━━━━━━━━━━━━━━\\x1b[0m \\x1b[32m0.0/7.9 MB\\x1b[0m \\x1b[31m?\\x1b[0m eta \\x1b[36m-:--:--\\x1b[0m',\n",
              " '\\x1b[2K   \\x1b[91m━━━━━━━\\x1b[0m\\x1b[91m╸\\x1b[0m\\x1b[90m━━━━━━━━━━━━━━━━━━━━━━━━━━━━━━━━\\x1b[0m \\x1b[32m1.6/7.9 MB\\x1b[0m \\x1b[31m47.0 MB/s\\x1b[0m eta \\x1b[36m0:00:01\\x1b[0m',\n",
              " '\\x1b[2K   \\x1b[91m━━━━━━━━━━━━━━━━━━━━━━━━━\\x1b[0m\\x1b[90m╺\\x1b[0m\\x1b[90m━━━━━━━━━━━━━━\\x1b[0m \\x1b[32m5.0/7.9 MB\\x1b[0m \\x1b[31m72.4 MB/s\\x1b[0m eta \\x1b[36m0:00:01\\x1b[0m',\n",
              " '\\x1b[2K   \\x1b[91m━━━━━━━━━━━━━━━━━━━━━━━━━━━━━━━━━━━━━━━\\x1b[0m\\x1b[91m╸\\x1b[0m \\x1b[32m7.9/7.9 MB\\x1b[0m \\x1b[31m81.0 MB/s\\x1b[0m eta \\x1b[36m0:00:01\\x1b[0m',\n",
              " '\\x1b[2K   \\x1b[90m━━━━━━━━━━━━━━━━━━━━━━━━━━━━━━━━━━━━━━━━\\x1b[0m \\x1b[32m7.9/7.9 MB\\x1b[0m \\x1b[31m57.4 MB/s\\x1b[0m eta \\x1b[36m0:00:00\\x1b[0m',\n",
              " '\\x1b[?25hDownloading openai-1.75.0-py3-none-any.whl (646 kB)',\n",
              " '\\x1b[?25l   \\x1b[90m━━━━━━━━━━━━━━━━━━━━━━━━━━━━━━━━━━━━━━━━\\x1b[0m \\x1b[32m0.0/647.0 kB\\x1b[0m \\x1b[31m?\\x1b[0m eta \\x1b[36m-:--:--\\x1b[0m',\n",
              " '\\x1b[2K   \\x1b[90m━━━━━━━━━━━━━━━━━━━━━━━━━━━━━━━━━━━━━━━━\\x1b[0m \\x1b[32m647.0/647.0 kB\\x1b[0m \\x1b[31m34.2 MB/s\\x1b[0m eta \\x1b[36m0:00:00\\x1b[0m',\n",
              " '\\x1b[?25hDownloading python_dotenv-1.1.0-py3-none-any.whl (20 kB)',\n",
              " 'Installing collected packages: python-dotenv, openai, litellm',\n",
              " '  Attempting uninstall: openai',\n",
              " '    Found existing installation: openai 1.78.1',\n",
              " '    Uninstalling openai-1.78.1:',\n",
              " '      Successfully uninstalled openai-1.78.1',\n",
              " 'Successfully installed litellm-1.70.2 openai-1.75.0 python-dotenv-1.1.0']"
            ]
          },
          "metadata": {},
          "execution_count": 1
        }
      ]
    },
    {
      "cell_type": "code",
      "source": [
        "# Important!!!\n",
        "#\n",
        "# <---- Set your 'OPENAI_API_KEY' as a secret over there with the \"key\" icon\n",
        "#\n",
        "#\n",
        "import os\n",
        "from google.colab import userdata"
      ],
      "metadata": {
        "id": "epNTm5b7Ydsu"
      },
      "execution_count": 2,
      "outputs": []
    },
    {
      "cell_type": "code",
      "source": [
        "api_key = userdata.get('OPENAI_API_KEY')\n",
        "os.environ['OPENAI_API_KEY'] = api_key"
      ],
      "metadata": {
        "id": "SqTweglJYbPu"
      },
      "execution_count": 3,
      "outputs": []
    },
    {
      "cell_type": "code",
      "source": [
        "from litellm import completion\n",
        "from typing import List, Dict"
      ],
      "metadata": {
        "id": "s1S3FFyMYhxC"
      },
      "execution_count": 4,
      "outputs": []
    },
    {
      "cell_type": "code",
      "source": [
        "def generate_response(messages: List[Dict]) -> str:\n",
        "    \"\"\"Call LLM to get response\"\"\"\n",
        "    response = completion(\n",
        "        model=\"openai/gpt-4o\",\n",
        "        messages=messages,\n",
        "        max_tokens=1024\n",
        "    )\n",
        "    return response.choices[0].message.content"
      ],
      "metadata": {
        "id": "qajEMkcdhCCZ"
      },
      "execution_count": 5,
      "outputs": []
    },
    {
      "cell_type": "markdown",
      "source": [
        "**Building a Quasi-Agent**\n",
        "\n",
        "For practice, we are going to write a quasi-agent that can write Python functions based on user requirements. It isn’t quite a real agent, it can’t react and adapt, but it can do something useful for us.\n",
        "\n",
        "The quasi-agent will ask the user what they want code for, write the code for the function, add documentation, and finally include test cases using the unittest framework. This exercise will help you understand how to maintain context across multiple prompts and manage the information flow between the user and the LLM. It will also help you understand the pain of trying to parse and handle the output of an LLM that is not always consistent.\n",
        "\n",
        "**Practice Exercise**\n",
        "This exercise will allow you to practice programmatically sending prompts to an LLM and managing memory.\n",
        "\n",
        "For this exercise, you should write a program that uses sequential prompts to generate any Python function based on user input. The program should:\n",
        "\n",
        "**First Prompt:**\n",
        "\n",
        "Ask the user what function they want to create\n",
        "Ask the LLM to write a basic Python function based on the user’s description\n",
        "Store the response for use in subsequent prompts\n",
        "Parse the response to separate the code from the commentary by the LLM\n",
        "\n",
        "**Second Prompt:**\n",
        "\n",
        "Pass the code generated from the first prompt\n",
        "Ask the LLM to add comprehensive documentation including:\n",
        "Function description\n",
        "Parameter descriptions\n",
        "Return value description\n",
        "Example usage\n",
        "Edge cases\n",
        "\n",
        "**Third Prompt:**\n",
        "\n",
        "Pass the documented code generated from the second prompt\n",
        "Ask the LLM to add test cases using Python’s unittest framework\n",
        "Tests should cover:\n",
        "Basic functionality\n",
        "Edge cases\n",
        "Error cases\n",
        "Various input scenarios\n",
        "Requirements:\n",
        "\n",
        "Use the LiteLLM library\n",
        "Maintain conversation context between prompts\n",
        "Print each step of the development process\n",
        "Save the final version to a Python file\n",
        "If you want to practice further, try using the system message to force the LLM to always output code that has a specific style or uses particular libraries."
      ],
      "metadata": {
        "id": "QvVvuy3khMaD"
      }
    },
    {
      "cell_type": "code",
      "execution_count": 10,
      "metadata": {
        "colab": {
          "base_uri": "https://localhost:8080/"
        },
        "id": "Mwe2eeOQB0cC",
        "outputId": "14982d42-1429-4a7a-ae8c-1a2cd624d8d0"
      },
      "outputs": [
        {
          "output_type": "stream",
          "name": "stdout",
          "text": [
            "What do you need help with Python ProgrammingWrite a program to do a palinddrome of a string\n",
            "To create a program that checks whether a string is a palindrome (i.e., whether it reads the same forwards and backwards), you can use a functional programming approach. Below is an example in Python using a functional style:\n",
            "\n",
            "```python\n",
            "def is_palindrome(s: str) -> bool:\n",
            "    # Normalize the string by converting it to lowercase and removing non-alphanumeric characters\n",
            "    normalized_str = ''.join(filter(str.isalnum, s.lower()))\n",
            "    \n",
            "    # Check if the string is equal to its reverse\n",
            "    return normalized_str == normalized_str[::-1]\n",
            "\n",
            "# Test the function\n",
            "test_string = \"A man, a plan, a canal, Panama\"\n",
            "print(f'Is the string \"{test_string}\" a palindrome? {is_palindrome(test_string)}')\n",
            "```\n",
            "\n",
            "### Explanation:\n",
            "\n",
            "1. **Normalize the String:**\n",
            "   - Convert it to lowercase to ensure the comparison is case-insensitive.\n",
            "   - Use `filter` along with `str.isalnum` to remove non-alphanumeric characters, making it easy to spot palindromes that ignore spaces and punctuation.\n",
            "\n",
            "2. **Check Palindrome:**\n",
            "   - Compare the normalized string with its reverse (`[::-1]`). If they are the same, the string is a palindrome.\n",
            "\n",
            "This code will help determine if a string is a palindrome by focusing purely on the characters, ignoring any spaces, punctuation, or case differences.\n"
          ]
        }
      ],
      "source": [
        "what_to_help_with = input(\"What do you need help with Python Programming\")\n",
        "messages = [\n",
        "    {\"role\": \"system\", \"content\": \"You are a Expert on Software Programmer. Very Useful generating functional programming codes.\"},\n",
        "    {\"role\": \"user\", \"content\": what_to_help_with}\n",
        "]\n",
        "\n",
        "response = generate_response(messages)\n",
        "print(response)"
      ]
    },
    {
      "cell_type": "code",
      "source": [
        "response"
      ],
      "metadata": {
        "id": "wN6vIQJOjqHi",
        "outputId": "a2274a28-cdfe-48aa-e45a-3ac82dd84148",
        "colab": {
          "base_uri": "https://localhost:8080/",
          "height": 143
        }
      },
      "execution_count": 16,
      "outputs": [
        {
          "output_type": "execute_result",
          "data": {
            "text/plain": [
              "'Certainly! Here\\'s how you can write a program to check if a string is a palindrome in a functional programming style, using Python with an emphasis on functional programming concepts like immutability and higher-order functions:\\n\\n```python\\nimport string\\n\\ndef is_palindrome(s: str) -> bool:\\n    # Normalize the string: convert to lowercase and filter non-alphanumeric characters\\n    normalize = lambda char: char.lower()\\n    is_valid_char = lambda char: char in string.ascii_letters + string.digits\\n    alnum_chars = filter(is_valid_char, s)\\n    normalized_str = \\'\\'.join(map(normalize, alnum_chars))\\n    \\n    # Check if the normalized string reads the same forwards and backwards\\n    return normalized_str == normalized_str[::-1]\\n\\n# Example usage\\nif __name__ == \"__main__\":\\n    test_string = \"A man, a plan, a canal, Panama\"\\n    print(f\\'Is the string \"{test_string}\" a palindrome? {is_palindrome(test_string)}\\')\\n```\\n\\n### Explanation:\\n\\n1. **Normalization:**\\n   - A lambda function `normalize` is used to convert each character to lowercase.\\n   - Another lambda function `is_valid_char` ensures only alphanumeric characters are considered, leveraging Python\\'s `string.ascii_letters` and `string.digits`.\\n   - `filter` is used to retain only valid characters in the string.\\n   - `map` applies the normalization function to each character.\\n   - `join` stitches the normalized characters back into a string.\\n\\n2. **Check Palindrome:**\\n   - The program checks if the normalized string is identical to its reverse using slicing `[::-1]`.\\n\\n3. **Functional Constructs:**\\n   - The use of `filter`, `map`, and lambdas in this example illustrates a functional style by using pure functions for transformation and reducing side effects.\\n\\nThis approach highlights a functional-style approach even within an imperative language, utilizing Python\\'s functional capabilities.'"
            ],
            "application/vnd.google.colaboratory.intrinsic+json": {
              "type": "string"
            }
          },
          "metadata": {},
          "execution_count": 16
        }
      ]
    },
    {
      "cell_type": "code",
      "source": [
        "prompt_2 = \"For the above function to add comprehensive documentation including: Function description Parameter descriptions Return value description Example usage Edge cases\"\n",
        "messages = [\n",
        "    {\"role\": \"system\", \"content\": \"You are a Expert on Software Programmer. Very Useful generating functional programming codes.\"},\n",
        "    {\"role\": \"user\", \"content\": prompt_2},\n",
        "    {\"role\": \"assistant\", \"content\": response}\n",
        "]\n",
        "\n",
        "response = generate_response(messages)\n",
        "print(response)"
      ],
      "metadata": {
        "id": "Nlw7ShjZib6d",
        "outputId": "0cf54c2d-e6d2-4bf6-e726-f0771bc3ab83",
        "colab": {
          "base_uri": "https://localhost:8080/"
        }
      },
      "execution_count": 17,
      "outputs": [
        {
          "output_type": "stream",
          "name": "stdout",
          "text": [
            "Here's a comprehensive documentation for the `is_palindrome` function, complete with parameter descriptions, a return value description, and examples of usage, including edge cases.\n",
            "\n",
            "```python\n",
            "def is_palindrome(s: str) -> bool:\n",
            "    \"\"\"\n",
            "    Checks if a string is a palindrome, ignoring punctuation, whitespace, and case.\n",
            "\n",
            "    A palindrome is a word, phrase, number, or other sequence of characters that reads the same forward and backward (ignoring spaces, punctuation, and capitalization).\n",
            "\n",
            "    Parameters:\n",
            "    s (str): The input string to check.\n",
            "\n",
            "    Returns:\n",
            "    bool: Returns True if the input string is a palindrome, False otherwise.\n",
            "\n",
            "    Example Usage:\n",
            "    >>> is_palindrome(\"A man, a plan, a canal, Panama\")\n",
            "    True\n",
            "    >>> is_palindrome(\"racecar\")\n",
            "    True\n",
            "    >>> is_palindrome(\"hello\")\n",
            "    False\n",
            "\n",
            "    Edge Cases:\n",
            "    - An empty string is considered a palindrome.\n",
            "    >>> is_palindrome(\"\")\n",
            "    True\n",
            "\n",
            "    - A string with a single character is considered a palindrome.\n",
            "    >>> is_palindrome(\"a\")\n",
            "    True\n",
            "\n",
            "    - Strings with only non-alphanumeric characters are considered palindromes.\n",
            "    >>> is_palindrome(\"!!!\")\n",
            "    True\n",
            "\n",
            "    - Strings with mixed cases are handled correctly.\n",
            "    >>> is_palindrome(\"No Lemon, No Melon\")\n",
            "    True\n",
            "    \"\"\"\n",
            "    # Normalize the string: convert to lowercase and filter non-alphanumeric characters\n",
            "    normalize = lambda char: char.lower()\n",
            "    is_valid_char = lambda char: char in string.ascii_letters + string.digits\n",
            "    alnum_chars = filter(is_valid_char, s)\n",
            "    normalized_str = ''.join(map(normalize, alnum_chars))\n",
            "    \n",
            "    # Check if the normalized string reads the same forwards and backwards\n",
            "    return normalized_str == normalized_str[::-1]\n",
            "\n",
            "# Example usage\n",
            "if __name__ == \"__main__\":\n",
            "    test_string = \"A man, a plan, a canal, Panama\"\n",
            "    print(f'Is the string \"{test_string}\" a palindrome? {is_palindrome(test_string)}')\n",
            "```\n",
            "\n",
            "### Overview:\n",
            "\n",
            "1. **Function Description:**\n",
            "   - The function determines if a given string is a palindrome by ignoring case, punctuation, and spaces.\n",
            "   \n",
            "2. **Parameter Description:**\n",
            "   - `s (str)`: This is the input string you want to check for the palindrome property.\n",
            "\n",
            "3. **Return Value Description:**\n",
            "   - Returns `True` if `s` is a palindrome, otherwise returns `False`.\n",
            "\n",
            "4. **Example Usage:**\n",
            "   - Demonstrates how to use the function with typical string inputs.\n",
            "\n",
            "5. **Edge Cases:**\n",
            "   - Handles edge scenarios like empty strings, single characters, non-alphanumeric strings, and strings with varying cases.\n",
            "\n",
            "With this documentation, anyone using the function can understand its purpose, how to use it, and what outcomes to expect given different inputs.\n"
          ]
        }
      ]
    },
    {
      "cell_type": "code",
      "source": [
        "prompt_3 = \"For the above add test cases using Python’s unittest framework Tests should cover: Basic functionality Edge cases Error cases Various input scenarios Requirements:\"\n",
        "messages = [\n",
        "    {\"role\": \"system\", \"content\": \"You are a Expert on Software Programmer. Very Useful generating functional programming codes.\"},\n",
        "    {\"role\": \"user\", \"content\": prompt_3},\n",
        "    {\"role\": \"assistant\", \"content\": response}\n",
        "]\n",
        "\n",
        "response = generate_response(messages)\n",
        "print(response)"
      ],
      "metadata": {
        "colab": {
          "base_uri": "https://localhost:8080/"
        },
        "id": "ETk96tScY4P8",
        "outputId": "36688577-1589-4a38-a60b-1509c88903a3"
      },
      "execution_count": 18,
      "outputs": [
        {
          "output_type": "stream",
          "name": "stdout",
          "text": [
            "To add test cases using Python's `unittest` framework, we can effectively cover various scenarios, including basic functionality, edge cases, error cases, and various input scenarios for our `is_palindrome` function. Here's how you can implement those tests:\n",
            "\n",
            "```python\n",
            "import unittest\n",
            "import string\n",
            "\n",
            "def is_palindrome(s: str) -> bool:\n",
            "    \"\"\"\n",
            "    Checks if a string is a palindrome, ignoring punctuation, whitespace, and case.\n",
            "\n",
            "    Parameters:\n",
            "    s (str): The input string to check.\n",
            "\n",
            "    Returns:\n",
            "    bool: Returns True if the input string is a palindrome, False otherwise.\n",
            "\n",
            "    Example Usage:\n",
            "    >>> is_palindrome(\"A man, a plan, a canal, Panama\")\n",
            "    True\n",
            "    >>> is_palindrome(\"racecar\")\n",
            "    True\n",
            "    >>> is_palindrome(\"hello\")\n",
            "    False\n",
            "\n",
            "    Edge Cases:\n",
            "    - An empty string is considered a palindrome.\n",
            "    >>> is_palindrome(\"\")\n",
            "    True\n",
            "\n",
            "    - A string with a single character is considered a palindrome.\n",
            "    >>> is_palindrome(\"a\")\n",
            "    True\n",
            "\n",
            "    - Strings with only non-alphanumeric characters are considered palindromes.\n",
            "    >>> is_palindrome(\"!!!\")\n",
            "    True\n",
            "\n",
            "    - Strings with mixed cases are handled correctly.\n",
            "    >>> is_palindrome(\"No Lemon, No Melon\")\n",
            "    True\n",
            "    \"\"\"\n",
            "    # Normalize the string: convert to lowercase and filter non-alphanumeric characters\n",
            "    normalize = lambda char: char.lower()\n",
            "    is_valid_char = lambda char: char in string.ascii_letters + string.digits\n",
            "    alnum_chars = filter(is_valid_char, s)\n",
            "    normalized_str = ''.join(map(normalize, alnum_chars))\n",
            "    \n",
            "    # Check if the normalized string reads the same forwards and backwards\n",
            "    return normalized_str == normalized_str[::-1]\n",
            "\n",
            "class TestIsPalindrome(unittest.TestCase):\n",
            "    def test_basic_functionality(self):\n",
            "        self.assertTrue(is_palindrome(\"A man, a plan, a canal, Panama\"))\n",
            "        self.assertTrue(is_palindrome(\"racecar\"))\n",
            "        self.assertFalse(is_palindrome(\"hello\"))\n",
            "\n",
            "    def test_edge_cases(self):\n",
            "        self.assertTrue(is_palindrome(\"\"))\n",
            "        self.assertTrue(is_palindrome(\"a\"))\n",
            "        self.assertTrue(is_palindrome(\"!!!\"))\n",
            "        self.assertTrue(is_palindrome(\"No Lemon, No Melon\"))\n",
            "\n",
            "    def test_error_cases(self):\n",
            "        with self.assertRaises(TypeError):\n",
            "            is_palindrome(None)\n",
            "        with self.assertRaises(TypeError):\n",
            "            is_palindrome(123)\n",
            "\n",
            "    def test_various_input_scenarios(self):\n",
            "        self.assertTrue(is_palindrome(\"Was it a car or a cat I saw?\"))\n",
            "        self.assertTrue(is_palindrome(\"Madam In Eden, I'm Adam\"))\n",
            "        self.assertFalse(is_palindrome(\"This is not a palindrome\"))\n",
            "        self.assertTrue(is_palindrome(\"Able was I, I saw Elba\"))\n",
            "\n",
            "if __name__ == '__main__':\n",
            "    unittest.main()\n",
            "```\n",
            "\n",
            "### Explanation:\n",
            "\n",
            "1. **Basic Functionality**: Tests common uses, such as typical palindromes, non-palindromes, and mixed-case palindromes.\n",
            "\n",
            "2. **Edge Cases**: Handles edge cases that might not be immediately obvious, like an empty string, single-character strings, and strings made up only of punctuation.\n",
            "\n",
            "3. **Error Cases**: Checks how the function handles unexpected types (in this case, `None` or numbers). Since the original function does not handle any input type other than `str`, I've included checks to ensure those cases raise `TypeError`.\n",
            "\n",
            "4. **Various Input Scenarios**: Includes additional test cases with complex sentences and mixed-case scenarios to further validate the functionality.\n",
            "\n",
            "This test suite ensures the `is_palindrome` function is robust and handles a wide range of input scenarios correctly.\n"
          ]
        }
      ]
    },
    {
      "cell_type": "code",
      "source": [],
      "metadata": {
        "id": "cSn3EOWDZHhO"
      },
      "execution_count": null,
      "outputs": []
    }
  ]
}