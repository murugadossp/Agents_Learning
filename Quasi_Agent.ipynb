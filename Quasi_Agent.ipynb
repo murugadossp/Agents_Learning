{
  "nbformat": 4,
  "nbformat_minor": 0,
  "metadata": {
    "colab": {
      "provenance": [],
      "gpuType": "T4",
      "include_colab_link": true
    },
    "kernelspec": {
      "name": "python3",
      "display_name": "Python 3"
    },
    "language_info": {
      "name": "python"
    },
    "accelerator": "GPU"
  },
  "cells": [
    {
      "cell_type": "markdown",
      "metadata": {
        "id": "view-in-github",
        "colab_type": "text"
      },
      "source": [
        "<a href=\"https://colab.research.google.com/github/murugadossp/Agents_Learning/blob/main/Quasi_Agent.ipynb\" target=\"_parent\"><img src=\"https://colab.research.google.com/assets/colab-badge.svg\" alt=\"Open In Colab\"/></a>"
      ]
    },
    {
      "cell_type": "code",
      "source": [
        "!!pip install litellm\n"
      ],
      "metadata": {
        "id": "KEYrzG2vB8Ip",
        "colab": {
          "base_uri": "https://localhost:8080/"
        },
        "outputId": "a8060279-3eab-404e-ab50-abe3fbaeca6a"
      },
      "execution_count": 1,
      "outputs": [
        {
          "output_type": "execute_result",
          "data": {
            "text/plain": [
              "['Collecting litellm',\n",
              " '  Downloading litellm-1.70.2-py3-none-any.whl.metadata (38 kB)',\n",
              " 'Requirement already satisfied: aiohttp in /usr/local/lib/python3.11/dist-packages (from litellm) (3.11.15)',\n",
              " 'Requirement already satisfied: click in /usr/local/lib/python3.11/dist-packages (from litellm) (8.2.0)',\n",
              " 'Requirement already satisfied: httpx>=0.23.0 in /usr/local/lib/python3.11/dist-packages (from litellm) (0.28.1)',\n",
              " 'Requirement already satisfied: importlib-metadata>=6.8.0 in /usr/local/lib/python3.11/dist-packages (from litellm) (8.7.0)',\n",
              " 'Requirement already satisfied: jinja2<4.0.0,>=3.1.2 in /usr/local/lib/python3.11/dist-packages (from litellm) (3.1.6)',\n",
              " 'Requirement already satisfied: jsonschema<5.0.0,>=4.22.0 in /usr/local/lib/python3.11/dist-packages (from litellm) (4.23.0)',\n",
              " 'Collecting openai<1.76.0,>=1.68.2 (from litellm)',\n",
              " '  Downloading openai-1.75.0-py3-none-any.whl.metadata (25 kB)',\n",
              " 'Requirement already satisfied: pydantic<3.0.0,>=2.0.0 in /usr/local/lib/python3.11/dist-packages (from litellm) (2.11.4)',\n",
              " 'Collecting python-dotenv>=0.2.0 (from litellm)',\n",
              " '  Downloading python_dotenv-1.1.0-py3-none-any.whl.metadata (24 kB)',\n",
              " 'Requirement already satisfied: tiktoken>=0.7.0 in /usr/local/lib/python3.11/dist-packages (from litellm) (0.9.0)',\n",
              " 'Requirement already satisfied: tokenizers in /usr/local/lib/python3.11/dist-packages (from litellm) (0.21.1)',\n",
              " 'Requirement already satisfied: anyio in /usr/local/lib/python3.11/dist-packages (from httpx>=0.23.0->litellm) (4.9.0)',\n",
              " 'Requirement already satisfied: certifi in /usr/local/lib/python3.11/dist-packages (from httpx>=0.23.0->litellm) (2025.4.26)',\n",
              " 'Requirement already satisfied: httpcore==1.* in /usr/local/lib/python3.11/dist-packages (from httpx>=0.23.0->litellm) (1.0.9)',\n",
              " 'Requirement already satisfied: idna in /usr/local/lib/python3.11/dist-packages (from httpx>=0.23.0->litellm) (3.10)',\n",
              " 'Requirement already satisfied: h11>=0.16 in /usr/local/lib/python3.11/dist-packages (from httpcore==1.*->httpx>=0.23.0->litellm) (0.16.0)',\n",
              " 'Requirement already satisfied: zipp>=3.20 in /usr/local/lib/python3.11/dist-packages (from importlib-metadata>=6.8.0->litellm) (3.21.0)',\n",
              " 'Requirement already satisfied: MarkupSafe>=2.0 in /usr/local/lib/python3.11/dist-packages (from jinja2<4.0.0,>=3.1.2->litellm) (3.0.2)',\n",
              " 'Requirement already satisfied: attrs>=22.2.0 in /usr/local/lib/python3.11/dist-packages (from jsonschema<5.0.0,>=4.22.0->litellm) (25.3.0)',\n",
              " 'Requirement already satisfied: jsonschema-specifications>=2023.03.6 in /usr/local/lib/python3.11/dist-packages (from jsonschema<5.0.0,>=4.22.0->litellm) (2025.4.1)',\n",
              " 'Requirement already satisfied: referencing>=0.28.4 in /usr/local/lib/python3.11/dist-packages (from jsonschema<5.0.0,>=4.22.0->litellm) (0.36.2)',\n",
              " 'Requirement already satisfied: rpds-py>=0.7.1 in /usr/local/lib/python3.11/dist-packages (from jsonschema<5.0.0,>=4.22.0->litellm) (0.24.0)',\n",
              " 'Requirement already satisfied: distro<2,>=1.7.0 in /usr/local/lib/python3.11/dist-packages (from openai<1.76.0,>=1.68.2->litellm) (1.9.0)',\n",
              " 'Requirement already satisfied: jiter<1,>=0.4.0 in /usr/local/lib/python3.11/dist-packages (from openai<1.76.0,>=1.68.2->litellm) (0.9.0)',\n",
              " 'Requirement already satisfied: sniffio in /usr/local/lib/python3.11/dist-packages (from openai<1.76.0,>=1.68.2->litellm) (1.3.1)',\n",
              " 'Requirement already satisfied: tqdm>4 in /usr/local/lib/python3.11/dist-packages (from openai<1.76.0,>=1.68.2->litellm) (4.67.1)',\n",
              " 'Requirement already satisfied: typing-extensions<5,>=4.11 in /usr/local/lib/python3.11/dist-packages (from openai<1.76.0,>=1.68.2->litellm) (4.13.2)',\n",
              " 'Requirement already satisfied: annotated-types>=0.6.0 in /usr/local/lib/python3.11/dist-packages (from pydantic<3.0.0,>=2.0.0->litellm) (0.7.0)',\n",
              " 'Requirement already satisfied: pydantic-core==2.33.2 in /usr/local/lib/python3.11/dist-packages (from pydantic<3.0.0,>=2.0.0->litellm) (2.33.2)',\n",
              " 'Requirement already satisfied: typing-inspection>=0.4.0 in /usr/local/lib/python3.11/dist-packages (from pydantic<3.0.0,>=2.0.0->litellm) (0.4.0)',\n",
              " 'Requirement already satisfied: regex>=2022.1.18 in /usr/local/lib/python3.11/dist-packages (from tiktoken>=0.7.0->litellm) (2024.11.6)',\n",
              " 'Requirement already satisfied: requests>=2.26.0 in /usr/local/lib/python3.11/dist-packages (from tiktoken>=0.7.0->litellm) (2.32.3)',\n",
              " 'Requirement already satisfied: aiohappyeyeballs>=2.3.0 in /usr/local/lib/python3.11/dist-packages (from aiohttp->litellm) (2.6.1)',\n",
              " 'Requirement already satisfied: aiosignal>=1.1.2 in /usr/local/lib/python3.11/dist-packages (from aiohttp->litellm) (1.3.2)',\n",
              " 'Requirement already satisfied: frozenlist>=1.1.1 in /usr/local/lib/python3.11/dist-packages (from aiohttp->litellm) (1.6.0)',\n",
              " 'Requirement already satisfied: multidict<7.0,>=4.5 in /usr/local/lib/python3.11/dist-packages (from aiohttp->litellm) (6.4.3)',\n",
              " 'Requirement already satisfied: propcache>=0.2.0 in /usr/local/lib/python3.11/dist-packages (from aiohttp->litellm) (0.3.1)',\n",
              " 'Requirement already satisfied: yarl<2.0,>=1.17.0 in /usr/local/lib/python3.11/dist-packages (from aiohttp->litellm) (1.20.0)',\n",
              " 'Requirement already satisfied: huggingface-hub<1.0,>=0.16.4 in /usr/local/lib/python3.11/dist-packages (from tokenizers->litellm) (0.31.2)',\n",
              " 'Requirement already satisfied: filelock in /usr/local/lib/python3.11/dist-packages (from huggingface-hub<1.0,>=0.16.4->tokenizers->litellm) (3.18.0)',\n",
              " 'Requirement already satisfied: fsspec>=2023.5.0 in /usr/local/lib/python3.11/dist-packages (from huggingface-hub<1.0,>=0.16.4->tokenizers->litellm) (2025.3.2)',\n",
              " 'Requirement already satisfied: packaging>=20.9 in /usr/local/lib/python3.11/dist-packages (from huggingface-hub<1.0,>=0.16.4->tokenizers->litellm) (24.2)',\n",
              " 'Requirement already satisfied: pyyaml>=5.1 in /usr/local/lib/python3.11/dist-packages (from huggingface-hub<1.0,>=0.16.4->tokenizers->litellm) (6.0.2)',\n",
              " 'Requirement already satisfied: charset-normalizer<4,>=2 in /usr/local/lib/python3.11/dist-packages (from requests>=2.26.0->tiktoken>=0.7.0->litellm) (3.4.2)',\n",
              " 'Requirement already satisfied: urllib3<3,>=1.21.1 in /usr/local/lib/python3.11/dist-packages (from requests>=2.26.0->tiktoken>=0.7.0->litellm) (2.4.0)',\n",
              " 'Downloading litellm-1.70.2-py3-none-any.whl (7.9 MB)',\n",
              " '\\x1b[?25l   \\x1b[90m━━━━━━━━━━━━━━━━━━━━━━━━━━━━━━━━━━━━━━━━\\x1b[0m \\x1b[32m0.0/7.9 MB\\x1b[0m \\x1b[31m?\\x1b[0m eta \\x1b[36m-:--:--\\x1b[0m',\n",
              " '\\x1b[2K   \\x1b[91m━━━━━━━\\x1b[0m\\x1b[91m╸\\x1b[0m\\x1b[90m━━━━━━━━━━━━━━━━━━━━━━━━━━━━━━━━\\x1b[0m \\x1b[32m1.6/7.9 MB\\x1b[0m \\x1b[31m47.0 MB/s\\x1b[0m eta \\x1b[36m0:00:01\\x1b[0m',\n",
              " '\\x1b[2K   \\x1b[91m━━━━━━━━━━━━━━━━━━━━━━━━━\\x1b[0m\\x1b[90m╺\\x1b[0m\\x1b[90m━━━━━━━━━━━━━━\\x1b[0m \\x1b[32m5.0/7.9 MB\\x1b[0m \\x1b[31m72.4 MB/s\\x1b[0m eta \\x1b[36m0:00:01\\x1b[0m',\n",
              " '\\x1b[2K   \\x1b[91m━━━━━━━━━━━━━━━━━━━━━━━━━━━━━━━━━━━━━━━\\x1b[0m\\x1b[91m╸\\x1b[0m \\x1b[32m7.9/7.9 MB\\x1b[0m \\x1b[31m81.0 MB/s\\x1b[0m eta \\x1b[36m0:00:01\\x1b[0m',\n",
              " '\\x1b[2K   \\x1b[90m━━━━━━━━━━━━━━━━━━━━━━━━━━━━━━━━━━━━━━━━\\x1b[0m \\x1b[32m7.9/7.9 MB\\x1b[0m \\x1b[31m57.4 MB/s\\x1b[0m eta \\x1b[36m0:00:00\\x1b[0m',\n",
              " '\\x1b[?25hDownloading openai-1.75.0-py3-none-any.whl (646 kB)',\n",
              " '\\x1b[?25l   \\x1b[90m━━━━━━━━━━━━━━━━━━━━━━━━━━━━━━━━━━━━━━━━\\x1b[0m \\x1b[32m0.0/647.0 kB\\x1b[0m \\x1b[31m?\\x1b[0m eta \\x1b[36m-:--:--\\x1b[0m',\n",
              " '\\x1b[2K   \\x1b[90m━━━━━━━━━━━━━━━━━━━━━━━━━━━━━━━━━━━━━━━━\\x1b[0m \\x1b[32m647.0/647.0 kB\\x1b[0m \\x1b[31m34.2 MB/s\\x1b[0m eta \\x1b[36m0:00:00\\x1b[0m',\n",
              " '\\x1b[?25hDownloading python_dotenv-1.1.0-py3-none-any.whl (20 kB)',\n",
              " 'Installing collected packages: python-dotenv, openai, litellm',\n",
              " '  Attempting uninstall: openai',\n",
              " '    Found existing installation: openai 1.78.1',\n",
              " '    Uninstalling openai-1.78.1:',\n",
              " '      Successfully uninstalled openai-1.78.1',\n",
              " 'Successfully installed litellm-1.70.2 openai-1.75.0 python-dotenv-1.1.0']"
            ]
          },
          "metadata": {},
          "execution_count": 1
        }
      ]
    },
    {
      "cell_type": "code",
      "source": [
        "# Important!!!\n",
        "#\n",
        "# <---- Set your 'OPENAI_API_KEY' as a secret over there with the \"key\" icon\n",
        "#\n",
        "#\n",
        "import os\n",
        "from google.colab import userdata"
      ],
      "metadata": {
        "id": "epNTm5b7Ydsu"
      },
      "execution_count": 2,
      "outputs": []
    },
    {
      "cell_type": "code",
      "source": [
        "api_key = userdata.get('OPENAI_API_KEY')\n",
        "os.environ['OPENAI_API_KEY'] = api_key"
      ],
      "metadata": {
        "id": "SqTweglJYbPu"
      },
      "execution_count": 3,
      "outputs": []
    },
    {
      "cell_type": "code",
      "source": [
        "from litellm import completion\n",
        "from typing import List, Dict"
      ],
      "metadata": {
        "id": "s1S3FFyMYhxC"
      },
      "execution_count": 4,
      "outputs": []
    },
    {
      "cell_type": "code",
      "source": [
        "def generate_response(messages: List[Dict]) -> str:\n",
        "    \"\"\"Call LLM to get response\"\"\"\n",
        "    response = completion(\n",
        "        model=\"openai/gpt-4o\",\n",
        "        messages=messages,\n",
        "        max_tokens=1024\n",
        "    )\n",
        "    return response.choices[0].message.content"
      ],
      "metadata": {
        "id": "qajEMkcdhCCZ"
      },
      "execution_count": 5,
      "outputs": []
    },
    {
      "cell_type": "code",
      "source": [
        "def extract_code_block(response: str) -> str:\n",
        "    \"\"\"Extract code block from response\"\"\"\n",
        "    if not '```' in response:\n",
        "        return response\n",
        "\n",
        "    code_block = response.split('```')[1].strip()\n",
        "    if code_block.startswith(\"python\"):\n",
        "        code_block = code_block[6:]\n",
        "\n",
        "    return code_block"
      ],
      "metadata": {
        "id": "Do-4Migbkmn3"
      },
      "execution_count": 19,
      "outputs": []
    },
    {
      "cell_type": "markdown",
      "source": [
        "**Building a Quasi-Agent**\n",
        "\n",
        "For practice, we are going to write a quasi-agent that can write Python functions based on user requirements. It isn’t quite a real agent, it can’t react and adapt, but it can do something useful for us.\n",
        "\n",
        "The quasi-agent will ask the user what they want code for, write the code for the function, add documentation, and finally include test cases using the unittest framework. This exercise will help you understand how to maintain context across multiple prompts and manage the information flow between the user and the LLM. It will also help you understand the pain of trying to parse and handle the output of an LLM that is not always consistent.\n",
        "\n",
        "**Practice Exercise**\n",
        "This exercise will allow you to practice programmatically sending prompts to an LLM and managing memory.\n",
        "\n",
        "For this exercise, you should write a program that uses sequential prompts to generate any Python function based on user input. The program should:\n",
        "\n",
        "**First Prompt:**\n",
        "\n",
        "Ask the user what function they want to create\n",
        "Ask the LLM to write a basic Python function based on the user’s description\n",
        "Store the response for use in subsequent prompts\n",
        "Parse the response to separate the code from the commentary by the LLM\n",
        "\n",
        "**Second Prompt:**\n",
        "\n",
        "Pass the code generated from the first prompt\n",
        "Ask the LLM to add comprehensive documentation including:\n",
        "Function description\n",
        "Parameter descriptions\n",
        "Return value description\n",
        "Example usage\n",
        "Edge cases\n",
        "\n",
        "**Third Prompt:**\n",
        "\n",
        "Pass the documented code generated from the second prompt\n",
        "Ask the LLM to add test cases using Python’s unittest framework\n",
        "Tests should cover:\n",
        "Basic functionality\n",
        "Edge cases\n",
        "Error cases\n",
        "Various input scenarios\n",
        "Requirements:\n",
        "\n",
        "Use the LiteLLM library\n",
        "Maintain conversation context between prompts\n",
        "Print each step of the development process\n",
        "Save the final version to a Python file\n",
        "If you want to practice further, try using the system message to force the LLM to always output code that has a specific style or uses particular libraries."
      ],
      "metadata": {
        "id": "QvVvuy3khMaD"
      }
    },
    {
      "cell_type": "code",
      "execution_count": 22,
      "metadata": {
        "colab": {
          "base_uri": "https://localhost:8080/"
        },
        "id": "Mwe2eeOQB0cC",
        "outputId": "794f33b6-0b24-45be-f0ac-2ae3df3812c8"
      },
      "outputs": [
        {
          "output_type": "stream",
          "name": "stdout",
          "text": [
            "What do you need help with Python Programmingpalindrome\n",
            "In Python, a palindrome is a sequence of characters that reads the same forward and backward. To determine if a string is a palindrome, you can write a simple function. Here's an example of how you can do it:\n",
            "\n",
            "```python\n",
            "def is_palindrome(s):\n",
            "    # Normalize the string by converting it to lowercase and removing non-alphanumeric characters\n",
            "    normalized_str = ''.join(c.lower() for c in s if c.isalnum())\n",
            "    \n",
            "    # Compare the string with its reverse\n",
            "    return normalized_str == normalized_str[::-1]\n",
            "\n",
            "# Example usage\n",
            "string = \"A man, a plan, a canal, Panama\"\n",
            "if is_palindrome(string):\n",
            "    print(f'\"{string}\" is a palindrome!')\n",
            "else:\n",
            "    print(f'\"{string}\" is not a palindrome.')\n",
            "```\n",
            "\n",
            "This function first normalizes the input string by converting it to lowercase and removing any non-alphanumeric characters. Then, it checks if the normalized string is the same as its reverse.\n",
            "\n",
            "******\n",
            "\n",
            "def is_palindrome(s):\n",
            "    # Normalize the string by converting it to lowercase and removing non-alphanumeric characters\n",
            "    normalized_str = ''.join(c.lower() for c in s if c.isalnum())\n",
            "    \n",
            "    # Compare the string with its reverse\n",
            "    return normalized_str == normalized_str[::-1]\n",
            "\n",
            "# Example usage\n",
            "string = \"A man, a plan, a canal, Panama\"\n",
            "if is_palindrome(string):\n",
            "    print(f'\"{string}\" is a palindrome!')\n",
            "else:\n",
            "    print(f'\"{string}\" is not a palindrome.') \n",
            "*********\n"
          ]
        }
      ],
      "source": [
        "what_to_help_with = input(\"What do you need help with Python Programming\")\n",
        "messages = [\n",
        "    {\"role\": \"system\", \"content\": \"You are a Expert on Software Programmer. Very Useful generating functional programming codes. Let us focus on PYthon only for the user prompts\"},\n",
        "    {\"role\": \"user\", \"content\": what_to_help_with}\n",
        "]\n",
        "\n",
        "response = generate_response(messages)\n",
        "print(response)\n",
        "code_block = extract_code_block(response)\n",
        "print(f\"\\n******\\n{code_block} \\n*********\")"
      ]
    },
    {
      "cell_type": "code",
      "source": [
        "prompt_2 = \"For the above function to add comprehensive documentation including: Function description Parameter descriptions Return value description Example usage Edge cases\"\n",
        "messages = [\n",
        "    {\"role\": \"system\", \"content\": \"You are a Expert on Software Programmer. Very Useful generating functional programming codes.\"},\n",
        "    {\"role\": \"user\", \"content\": prompt_2},\n",
        "    {\"role\": \"assistant\", \"content\": code_block}\n",
        "]\n",
        "\n",
        "response = generate_response(messages)\n",
        "print(response)"
      ],
      "metadata": {
        "colab": {
          "base_uri": "https://localhost:8080/"
        },
        "id": "Nlw7ShjZib6d",
        "outputId": "3ca296f8-5508-4ba8-99f2-26592b6814fe"
      },
      "execution_count": 24,
      "outputs": [
        {
          "output_type": "stream",
          "name": "stdout",
          "text": [
            "Here is a comprehensive documentation for the `is_palindrome` function, including descriptions for the function itself, its parameters, return value, example usage, and considerations for edge cases:\n",
            "\n",
            "```python\n",
            "def is_palindrome(s):\n",
            "    \"\"\"\n",
            "    Function Description:\n",
            "    ---------------------\n",
            "    Checks if the given string 's' is a palindrome. A palindrome is a word, phrase,\n",
            "    or sequence that reads the same backward as forward, ignoring spaces, punctuation,\n",
            "    and case differences. This function normalizes the string by converting it to\n",
            "    lowercase and removing non-alphanumeric characters before comparison.\n",
            "\n",
            "    Parameter Descriptions:\n",
            "    -----------------------\n",
            "    s : str\n",
            "        The string that needs to be checked for palindrome properties.\n",
            "        It may contain a mix of alphanumeric characters, spaces, and punctuation.\n",
            "\n",
            "    Return Value Description:\n",
            "    --------------------------\n",
            "    bool\n",
            "        Returns True if the normalized string is a palindrome, otherwise returns False.\n",
            "\n",
            "    Example Usage:\n",
            "    --------------\n",
            "    # Example 1: A known palindrome phrase\n",
            "    string1 = \"A man, a plan, a canal, Panama\"\n",
            "    if is_palindrome(string1):\n",
            "        print(f'\"{string1}\" is a palindrome!')\n",
            "    else:\n",
            "        print(f'\"{string1}\" is not a palindrome.')\n",
            "\n",
            "    # Example 2: A simple palindrome word\n",
            "    string2 = \"radar\"\n",
            "    print(is_palindrome(string2))  # Output: True\n",
            "\n",
            "    # Example 3: A non-palindrome string\n",
            "    string3 = \"Hello, World!\"\n",
            "    print(is_palindrome(string3))  # Output: False\n",
            "\n",
            "    Edge Cases:\n",
            "    -----------\n",
            "    - Empty string: An empty string is considered a palindrome.\n",
            "        Example: is_palindrome(\"\")  # Output: True\n",
            "    - Strings with special characters or numbers: The function should correctly handle input\n",
            "      with these characters and still determine if the alphanumeric sequence is a palindrome.\n",
            "        Example: is_palindrome(\"Madam, I'm Adam\")  # Output: True\n",
            "    - Case sensitivity: The function is case-insensitive.\n",
            "        Example: is_palindrome(\"RaceCar\")  # Output: True\n",
            "    - Strings with only spaces and punctuation should be considered palindromes.\n",
            "        Example: is_palindrome(\"    !!  \")  # Output: True\n",
            "    \"\"\"\n",
            "    # Normalize the string by converting it to lowercase and removing non-alphanumeric characters\n",
            "    normalized_str = ''.join(c.lower() for c in s if c.isalnum())\n",
            "    \n",
            "    # Compare the string with its reverse\n",
            "    return normalized_str == normalized_str[::-1]\n",
            "```\n",
            "\n",
            "This comprehensive documentation should help users understand how the function works, what input it expects, what it returns, along with some examples of how to call it and considerations for how it handles edge cases.\n"
          ]
        }
      ]
    },
    {
      "cell_type": "code",
      "source": [
        "code_block_v2 = extract_code_block(response)\n",
        "print(code_block_v2)"
      ],
      "metadata": {
        "id": "Ta9e5KnzlZrH",
        "outputId": "ae768aed-9183-4a8a-da4f-5cb9f5b95ce6",
        "colab": {
          "base_uri": "https://localhost:8080/"
        }
      },
      "execution_count": 26,
      "outputs": [
        {
          "output_type": "stream",
          "name": "stdout",
          "text": [
            "\n",
            "def is_palindrome(s):\n",
            "    \"\"\"\n",
            "    Function Description:\n",
            "    ---------------------\n",
            "    Checks if the given string 's' is a palindrome. A palindrome is a word, phrase,\n",
            "    or sequence that reads the same backward as forward, ignoring spaces, punctuation,\n",
            "    and case differences. This function normalizes the string by converting it to\n",
            "    lowercase and removing non-alphanumeric characters before comparison.\n",
            "\n",
            "    Parameter Descriptions:\n",
            "    -----------------------\n",
            "    s : str\n",
            "        The string that needs to be checked for palindrome properties.\n",
            "        It may contain a mix of alphanumeric characters, spaces, and punctuation.\n",
            "\n",
            "    Return Value Description:\n",
            "    --------------------------\n",
            "    bool\n",
            "        Returns True if the normalized string is a palindrome, otherwise returns False.\n",
            "\n",
            "    Example Usage:\n",
            "    --------------\n",
            "    # Example 1: A known palindrome phrase\n",
            "    string1 = \"A man, a plan, a canal, Panama\"\n",
            "    if is_palindrome(string1):\n",
            "        print(f'\"{string1}\" is a palindrome!')\n",
            "    else:\n",
            "        print(f'\"{string1}\" is not a palindrome.')\n",
            "\n",
            "    # Example 2: A simple palindrome word\n",
            "    string2 = \"radar\"\n",
            "    print(is_palindrome(string2))  # Output: True\n",
            "\n",
            "    # Example 3: A non-palindrome string\n",
            "    string3 = \"Hello, World!\"\n",
            "    print(is_palindrome(string3))  # Output: False\n",
            "\n",
            "    Edge Cases:\n",
            "    -----------\n",
            "    - Empty string: An empty string is considered a palindrome.\n",
            "        Example: is_palindrome(\"\")  # Output: True\n",
            "    - Strings with special characters or numbers: The function should correctly handle input\n",
            "      with these characters and still determine if the alphanumeric sequence is a palindrome.\n",
            "        Example: is_palindrome(\"Madam, I'm Adam\")  # Output: True\n",
            "    - Case sensitivity: The function is case-insensitive.\n",
            "        Example: is_palindrome(\"RaceCar\")  # Output: True\n",
            "    - Strings with only spaces and punctuation should be considered palindromes.\n",
            "        Example: is_palindrome(\"    !!  \")  # Output: True\n",
            "    \"\"\"\n",
            "    # Normalize the string by converting it to lowercase and removing non-alphanumeric characters\n",
            "    normalized_str = ''.join(c.lower() for c in s if c.isalnum())\n",
            "    \n",
            "    # Compare the string with its reverse\n",
            "    return normalized_str == normalized_str[::-1]\n"
          ]
        }
      ]
    },
    {
      "cell_type": "code",
      "source": [
        "prompt_3 = \"For the above add test cases using Python’s unittest framework Tests should cover: Basic functionality Edge cases Error cases Various input scenarios Requirements:\"\n",
        "messages = [\n",
        "    {\"role\": \"system\", \"content\": \"You are a Expert on Software Programmer. Very Useful generating functional programming codes.\"},\n",
        "    {\"role\": \"user\", \"content\": prompt_3},\n",
        "    {\"role\": \"assistant\", \"content\": code_block_v2}\n",
        "]\n",
        "\n",
        "response = generate_response(messages)\n",
        "print(response)"
      ],
      "metadata": {
        "colab": {
          "base_uri": "https://localhost:8080/"
        },
        "id": "ETk96tScY4P8",
        "outputId": "6c00cb9f-b78c-43dd-e541-35a507f4c6f5"
      },
      "execution_count": 27,
      "outputs": [
        {
          "output_type": "stream",
          "name": "stdout",
          "text": [
            "Here are test cases for the `is_palindrome` function using Python's `unittest` framework, covering basic functionality, edge cases, error cases, and various input scenarios:\n",
            "\n",
            "```python\n",
            "import unittest\n",
            "\n",
            "class TestIsPalindrome(unittest.TestCase):\n",
            "\n",
            "    # Basic functionality tests\n",
            "    def test_simple_palindrome(self):\n",
            "        self.assertTrue(is_palindrome(\"radar\"))\n",
            "        self.assertTrue(is_palindrome(\"level\"))\n",
            "\n",
            "    def test_simple_non_palindrome(self):\n",
            "        self.assertFalse(is_palindrome(\"hello\"))\n",
            "        self.assertFalse(is_palindrome(\"world\"))\n",
            "\n",
            "    # Edge cases\n",
            "    def test_empty_string(self):\n",
            "        self.assertTrue(is_palindrome(\"\"))\n",
            "\n",
            "    def test_single_character(self):\n",
            "        self.assertTrue(is_palindrome(\"a\"))\n",
            "        self.assertTrue(is_palindrome(\"Z\"))\n",
            "\n",
            "    # Case insensitivity\n",
            "    def test_case_insensitivity(self):\n",
            "        self.assertTrue(is_palindrome(\"RaceCar\"))\n",
            "        self.assertTrue(is_palindrome(\"Madam\"))\n",
            "\n",
            "    # Mixed cases with spaces and punctuation\n",
            "    def test_spaces_and_punctuation(self):\n",
            "        self.assertTrue(is_palindrome(\"A man, a plan, a canal, Panama\"))\n",
            "        self.assertTrue(is_palindrome(\"No 'x' in Nixon\"))\n",
            "\n",
            "    # Strings with numbers\n",
            "    def test_numbers(self):\n",
            "        self.assertTrue(is_palindrome(\"12321\"))\n",
            "        self.assertFalse(is_palindrome(\"12345\"))\n",
            "\n",
            "    # Strings with special characters only\n",
            "    def test_special_characters_only(self):\n",
            "        self.assertTrue(is_palindrome(\"!!!!\"))\n",
            "        self.assertTrue(is_palindrome(\"...\")))\n",
            "    \n",
            "    # Mixed alphanumeric and special characters\n",
            "    def test_mixed_alphanumeric_special_characters(self):\n",
            "        self.assertTrue(is_palindrome(\"1A2@3A2!1\"))\n",
            "        self.assertFalse(is_palindrome(\"1A2B3\"))\n",
            "\n",
            "if __name__ == '__main__':\n",
            "    unittest.main()\n",
            "```\n",
            "\n",
            "### Explanation:\n",
            "\n",
            "1. **Basic Functionality:**\n",
            "   - Tests for simple known palindromes and non-palindromes to ensure basic functionality.\n",
            "\n",
            "2. **Edge Cases:**\n",
            "   - Tests for empty strings and single characters, which are inherently palindromes.\n",
            "\n",
            "3. **Case Insensitivity:**\n",
            "   - Tests to ensure that the function correctly handles different capitalizations.\n",
            "\n",
            "4. **Spaces and Punctuation:**\n",
            "   - Tests for phrases with spaces and punctuation that cleanup before checking palindrome status.\n",
            "\n",
            "5. **Numbers and Special Characters:**\n",
            "   - Tests to ensure the function can handle strings with numeric characters and special characters.\n",
            "\n",
            "6. **Mixed Alphanumeric and Special Characters:**\n",
            "   - Tests to ensure the function correctly identifies palindromes when alphanumeric and special characters are mixed.\n",
            "\n",
            "These test cases provide a comprehensive coverage for different scenarios, making sure the function works robustly under various conditions.\n"
          ]
        }
      ]
    },
    {
      "cell_type": "code",
      "source": [],
      "metadata": {
        "id": "cSn3EOWDZHhO"
      },
      "execution_count": null,
      "outputs": []
    }
  ]
}