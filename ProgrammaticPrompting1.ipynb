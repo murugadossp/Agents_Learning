{
  "nbformat": 4,
  "nbformat_minor": 0,
  "metadata": {
    "colab": {
      "provenance": [],
      "include_colab_link": true
    },
    "kernelspec": {
      "name": "python3",
      "display_name": "Python 3"
    },
    "language_info": {
      "name": "python"
    }
  },
  "cells": [
    {
      "cell_type": "markdown",
      "metadata": {
        "id": "view-in-github",
        "colab_type": "text"
      },
      "source": [
        "<a href=\"https://colab.research.google.com/github/murugadossp/Agents_Learning/blob/main/ProgrammaticPrompting1.ipynb\" target=\"_parent\"><img src=\"https://colab.research.google.com/assets/colab-badge.svg\" alt=\"Open In Colab\"/></a>"
      ]
    },
    {
      "cell_type": "code",
      "source": [
        "!!pip install litellm\n",
        "\n",
        "# Important!!!\n",
        "#\n",
        "# <---- Set your 'OPENAI_API_KEY' as a secret over there with the \"key\" icon\n",
        "#\n",
        "#\n"
      ],
      "metadata": {
        "id": "KEYrzG2vB8Ip"
      },
      "execution_count": 2,
      "outputs": []
    },
    {
      "cell_type": "code",
      "source": [
        "import os\n",
        "from google.colab import userdata"
      ],
      "metadata": {
        "id": "GGTsjVC9etxI"
      },
      "execution_count": null,
      "outputs": []
    },
    {
      "cell_type": "code",
      "source": [
        "api_key = userdata.get('OPENAI_API_KEY')\n",
        "os.environ['OPENAI_API_KEY'] = api_key"
      ],
      "metadata": {
        "id": "B00ATSAfeB4s"
      },
      "execution_count": 7,
      "outputs": []
    },
    {
      "cell_type": "code",
      "source": [
        "from litellm import completion\n",
        "from typing import List, Dict"
      ],
      "metadata": {
        "id": "8HPoQrejewlS"
      },
      "execution_count": 8,
      "outputs": []
    },
    {
      "cell_type": "code",
      "execution_count": 10,
      "metadata": {
        "colab": {
          "base_uri": "https://localhost:8080/"
        },
        "id": "Mwe2eeOQB0cC",
        "outputId": "95f7cb84-85ef-4ec8-863e-c61d22dfbb20"
      },
      "outputs": [
        {
          "output_type": "stream",
          "name": "stdout",
          "text": [
            "Raw Completion Response: ModelResponse(id='chatcmpl-BZJyg5ZwrSzkXyJC7AvFxmRBCKokR', created=1747757974, model='gpt-4o-2024-08-06', object='chat.completion', system_fingerprint='fp_55d88aaf2f', choices=[Choices(finish_reason='stop', index=0, message=Message(content=\"In functional programming, immutability is a key principle, so let's write a Python function that creates a new dictionary with keys and values swapped from the original dictionary. We'll use a purely functional style, utilizing tools like dictionary comprehensions. Here's how you can do it:\\n\\n```python\\ndef swap_keys_values(d):\\n    return {v: k for k, v in d.items()}\\n\\n# Example usage:\\noriginal_dict = {'a': 1, 'b': 2, 'c': 3}\\nswapped_dict = swap_keys_values(original_dict)\\nprint(swapped_dict)  # Output: {1: 'a', 2: 'b', 3: 'c'}\\n```\\n\\n### Notes:\\n- **Uniqueness Requirement**: Make sure that all values in the original dictionary are unique. If there are duplicate values, the resulting swapped dictionary will only keep the last key encountered for each value.\\n- **Immutability**: The original dictionary remains unchanged, and a new dictionary is returned with the swapped keys and values.\\n\\nThis function captures the essence of functional programming by avoiding mutation and directly mapping inputs to outputs.\", role='assistant', tool_calls=None, function_call=None, provider_specific_fields={'refusal': None}, annotations=[]))], usage=Usage(completion_tokens=230, prompt_tokens=35, total_tokens=265, completion_tokens_details=CompletionTokensDetailsWrapper(accepted_prediction_tokens=0, audio_tokens=0, reasoning_tokens=0, rejected_prediction_tokens=0, text_tokens=None), prompt_tokens_details=PromptTokensDetailsWrapper(audio_tokens=0, cached_tokens=0, text_tokens=None, image_tokens=None)), service_tier='default')\n",
            "In functional programming, immutability is a key principle, so let's write a Python function that creates a new dictionary with keys and values swapped from the original dictionary. We'll use a purely functional style, utilizing tools like dictionary comprehensions. Here's how you can do it:\n",
            "\n",
            "```python\n",
            "def swap_keys_values(d):\n",
            "    return {v: k for k, v in d.items()}\n",
            "\n",
            "# Example usage:\n",
            "original_dict = {'a': 1, 'b': 2, 'c': 3}\n",
            "swapped_dict = swap_keys_values(original_dict)\n",
            "print(swapped_dict)  # Output: {1: 'a', 2: 'b', 3: 'c'}\n",
            "```\n",
            "\n",
            "### Notes:\n",
            "- **Uniqueness Requirement**: Make sure that all values in the original dictionary are unique. If there are duplicate values, the resulting swapped dictionary will only keep the last key encountered for each value.\n",
            "- **Immutability**: The original dictionary remains unchanged, and a new dictionary is returned with the swapped keys and values.\n",
            "\n",
            "This function captures the essence of functional programming by avoiding mutation and directly mapping inputs to outputs.\n"
          ]
        }
      ],
      "source": [
        "def generate_response(messages: List[Dict]) -> str:\n",
        "    \"\"\"Call LLM to get response\"\"\"\n",
        "    response = completion(\n",
        "        model=\"openai/gpt-4o\",\n",
        "        messages=messages,\n",
        "        max_tokens=1024\n",
        "    )\n",
        "    print(f\"Raw Completion Response: {response}\")\n",
        "    return response.choices[0].message.content\n",
        "\n",
        "\n",
        "messages = [\n",
        "    {\"role\": \"system\", \"content\": \"You are an expert software engineer that prefers functional programming.\"},\n",
        "    {\"role\": \"user\", \"content\": \"Write a function to swap the keys and values in a dictionary.\"}\n",
        "]\n",
        "\n",
        "response = generate_response(messages)\n",
        "print(response)"
      ]
    },
    {
      "cell_type": "code",
      "source": [],
      "metadata": {
        "id": "qSOnmfYgd0dK"
      },
      "execution_count": null,
      "outputs": []
    }
  ]
}