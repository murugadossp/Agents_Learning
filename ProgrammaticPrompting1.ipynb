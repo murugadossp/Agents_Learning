{
  "nbformat": 4,
  "nbformat_minor": 0,
  "metadata": {
    "colab": {
      "provenance": [],
      "include_colab_link": true
    },
    "kernelspec": {
      "name": "python3",
      "display_name": "Python 3"
    },
    "language_info": {
      "name": "python"
    }
  },
  "cells": [
    {
      "cell_type": "markdown",
      "metadata": {
        "id": "view-in-github",
        "colab_type": "text"
      },
      "source": [
        "<a href=\"https://colab.research.google.com/github/murugadossp/Agents_Learning/blob/main/ProgrammaticPrompting1.ipynb\" target=\"_parent\"><img src=\"https://colab.research.google.com/assets/colab-badge.svg\" alt=\"Open In Colab\"/></a>"
      ]
    },
    {
      "cell_type": "code",
      "source": [
        "!!pip install litellm\n",
        "\n",
        "# Important!!!\n",
        "#\n",
        "# <---- Set your 'OPENAI_API_KEY' as a secret over there with the \"key\" icon\n",
        "#\n",
        "#\n"
      ],
      "metadata": {
        "id": "KEYrzG2vB8Ip"
      },
      "execution_count": 2,
      "outputs": []
    },
    {
      "cell_type": "code",
      "source": [
        "import os\n",
        "from google.colab import userdata"
      ],
      "metadata": {
        "id": "GGTsjVC9etxI"
      },
      "execution_count": null,
      "outputs": []
    },
    {
      "cell_type": "code",
      "source": [
        "api_key = userdata.get('OPENAI_API_KEY')\n",
        "os.environ['OPENAI_API_KEY'] = api_key"
      ],
      "metadata": {
        "id": "B00ATSAfeB4s"
      },
      "execution_count": 7,
      "outputs": []
    },
    {
      "cell_type": "code",
      "source": [
        "from litellm import completion\n",
        "from typing import List, Dict"
      ],
      "metadata": {
        "id": "8HPoQrejewlS"
      },
      "execution_count": 8,
      "outputs": []
    },
    {
      "cell_type": "code",
      "execution_count": 12,
      "metadata": {
        "colab": {
          "base_uri": "https://localhost:8080/"
        },
        "id": "Mwe2eeOQB0cC",
        "outputId": "dd995943-c1d6-43e2-815e-97864cfcf5ef"
      },
      "outputs": [
        {
          "output_type": "stream",
          "name": "stdout",
          "text": [
            "To swap the keys and values in a dictionary, you can write a function using a functional programming approach. Here is an example in Python:\n",
            "\n",
            "```python\n",
            "def swap_dict_keys_values(d):\n",
            "    return {value: key for key, value in d.items()}\n",
            "\n",
            "# Example usage\n",
            "original_dict = {'a': 1, 'b': 2, 'c': 3}\n",
            "swapped_dict = swap_dict_keys_values(original_dict)\n",
            "print(swapped_dict)  # Output: {1: 'a', 2: 'b', 3: 'c'}\n",
            "```\n",
            "\n",
            "This function, `swap_dict_keys_values`, takes a dictionary `d` as input and returns a new dictionary where the keys and values are swapped. It uses a dictionary comprehension, which is in keeping with a more functional style because it emphasizes immutable data structures and declarative constructs.\n",
            "\n",
            "Note that this function assumes that all values in the original dictionary are unique and hashable since dictionary keys must be unique. If the values are not unique, some data might be lost because duplicate keys in the swapped dictionary will overwrite each other.\n"
          ]
        }
      ],
      "source": [
        "def generate_response(messages: List[Dict]) -> str:\n",
        "    \"\"\"Call LLM to get response\"\"\"\n",
        "    response = completion(\n",
        "        model=\"openai/gpt-4o\",\n",
        "        messages=messages,\n",
        "        max_tokens=1024\n",
        "    )\n",
        "    # print(f\"Raw Completion Response: {response}\")\n",
        "    return response.choices[0].message.content\n",
        "\n",
        "\n",
        "messages = [\n",
        "    {\"role\": \"system\", \"content\": \"You are an expert software engineer that prefers functional programming.\"},\n",
        "    {\"role\": \"user\", \"content\": \"Write a function to swap the keys and values in a dictionary.\"}\n",
        "]\n",
        "\n",
        "response = generate_response(messages)\n",
        "print(response)"
      ]
    },
    {
      "cell_type": "markdown",
      "source": [
        "Quick Exercise\n",
        "As a practice exercise, try creating a prompt that only provides the response as a Base64 encoded string and refuses to answer in natural language. Can you get your LLM to only respond in Base64?"
      ],
      "metadata": {
        "id": "o9xOUESJgXgh"
      }
    },
    {
      "cell_type": "code",
      "source": [
        "messages = [\n",
        "    {\"role\": \"system\", \"content\": \"You are an expert software engineer the response as a Base64 encoded string and refuses to answer in natural language.\"},\n",
        "    {\"role\": \"user\", \"content\": \"Write a function to swap the keys and values in a dictionary.\"}\n",
        "]\n",
        "\n",
        "response = generate_response(messages)\n",
        "print(response)"
      ],
      "metadata": {
        "colab": {
          "base_uri": "https://localhost:8080/"
        },
        "id": "qSOnmfYgd0dK",
        "outputId": "4e9c737f-fc0c-4476-f19e-cda4a07ea551"
      },
      "execution_count": 16,
      "outputs": [
        {
          "output_type": "stream",
          "name": "stdout",
          "text": [
            "```python\n",
            "ZGVmIHN3YXAoZGljdF9pbnB1dCk6CiAgICByZXR1cm4ge3Y6IGsgZm9yIGssIHYgaW4gZGljdF9pbnB1dC5pdGVtcygpfQoKIyBBIHNhbXBsZSBjYWxsIHdvdWxkIGxvb2sgbGlrZSB0aGlzOgoKI2RhdGEgPSB7J2E6JzEnLCAiYjonMiwgJ2M6JzMnfQojc3dhcHBlZCA9IHN3YXAoZGF0YSkKI3ByaW50KHN3YXBwZWQpICMgRXhwZWN0ZWQ6IHsnbic6ICdEZicsJ2InOiAnMigpLCAnYyc6ICczKX0K```\n"
          ]
        }
      ]
    },
    {
      "cell_type": "code",
      "source": [
        "import json\n",
        "\n",
        "code_spec = {\n",
        "    'name': 'swap_keys_values',\n",
        "    'description': 'Swaps the keys and values in a given dictionary.',\n",
        "    'params': {\n",
        "        'd': 'A dictionary with unique values.'\n",
        "    },\n",
        "}\n",
        "\n",
        "messages = [\n",
        "    {\"role\": \"system\",\n",
        "     \"content\": \"You are an expert software engineer that writes clean functional code. You always document your functions.\"},\n",
        "    {\"role\": \"user\", \"content\": f\"Please implement: {json.dumps(code_spec)}\"}\n",
        "]\n",
        "\n",
        "response = generate_response(messages)\n",
        "print(response)"
      ],
      "metadata": {
        "colab": {
          "base_uri": "https://localhost:8080/"
        },
        "id": "1qpwbSOsgoUH",
        "outputId": "1dd65c86-b8bf-4656-822c-ceb470e7e208"
      },
      "execution_count": 17,
      "outputs": [
        {
          "output_type": "stream",
          "name": "stdout",
          "text": [
            "```python\n",
            "def swap_keys_values(d):\n",
            "    \"\"\"\n",
            "    Swaps the keys and values in a given dictionary.\n",
            "\n",
            "    Args:\n",
            "        d (dict): A dictionary with unique values.\n",
            "\n",
            "    Returns:\n",
            "        dict: A new dictionary where the keys and values are swapped.\n",
            "\n",
            "    Raises:\n",
            "        ValueError: If the provided dictionary contains non-unique values.\n",
            "    \"\"\"\n",
            "\n",
            "    if len(d) != len(set(d.values())):\n",
            "        # Check if all values are unique\n",
            "        raise ValueError(\"The dictionary contains non-unique values.\")\n",
            "\n",
            "    # Swap keys and values\n",
            "    return {value: key for key, value in d.items()}\n",
            "\n",
            "# Example usage:\n",
            "# original_dict = {1: 'a', 2: 'b', 3: 'c'}\n",
            "# swapped_dict = swap_keys_values(original_dict)\n",
            "# The result will be: {'a': 1, 'b': 2, 'c': 3}\n",
            "```\n",
            "\n",
            "This function, `swap_keys_values`, takes a dictionary `d` as input and returns a new dictionary with keys and values swapped. Note that all values in `d` must be unique. If not, a `ValueError` is raised.\n"
          ]
        }
      ]
    },
    {
      "cell_type": "code",
      "source": [],
      "metadata": {
        "id": "iSawoQfPhx0q"
      },
      "execution_count": null,
      "outputs": []
    }
  ]
}