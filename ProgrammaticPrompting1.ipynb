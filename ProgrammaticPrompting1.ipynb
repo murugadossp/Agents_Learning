{
  "nbformat": 4,
  "nbformat_minor": 0,
  "metadata": {
    "colab": {
      "provenance": [],
      "include_colab_link": true
    },
    "kernelspec": {
      "name": "python3",
      "display_name": "Python 3"
    },
    "language_info": {
      "name": "python"
    }
  },
  "cells": [
    {
      "cell_type": "markdown",
      "metadata": {
        "id": "view-in-github",
        "colab_type": "text"
      },
      "source": [
        "<a href=\"https://colab.research.google.com/github/murugadossp/Agents_Learning/blob/main/ProgrammaticPrompting1.ipynb\" target=\"_parent\"><img src=\"https://colab.research.google.com/assets/colab-badge.svg\" alt=\"Open In Colab\"/></a>"
      ]
    },
    {
      "cell_type": "code",
      "source": [
        "!!pip install litellm\n",
        "\n",
        "# Important!!!\n",
        "#\n",
        "# <---- Set your 'OPENAI_API_KEY' as a secret over there with the \"key\" icon\n",
        "#\n",
        "#\n"
      ],
      "metadata": {
        "id": "KEYrzG2vB8Ip"
      },
      "execution_count": 2,
      "outputs": []
    },
    {
      "cell_type": "code",
      "source": [
        "import os\n",
        "from google.colab import userdata"
      ],
      "metadata": {
        "id": "GGTsjVC9etxI"
      },
      "execution_count": null,
      "outputs": []
    },
    {
      "cell_type": "code",
      "source": [
        "api_key = userdata.get('OPENAI_API_KEY')\n",
        "os.environ['OPENAI_API_KEY'] = api_key"
      ],
      "metadata": {
        "id": "B00ATSAfeB4s"
      },
      "execution_count": 7,
      "outputs": []
    },
    {
      "cell_type": "code",
      "source": [
        "from litellm import completion\n",
        "from typing import List, Dict"
      ],
      "metadata": {
        "id": "8HPoQrejewlS"
      },
      "execution_count": 8,
      "outputs": []
    },
    {
      "cell_type": "code",
      "execution_count": 9,
      "metadata": {
        "colab": {
          "base_uri": "https://localhost:8080/"
        },
        "id": "Mwe2eeOQB0cC",
        "outputId": "1a0f6387-11d8-48ea-9629-761cfdfcf289"
      },
      "outputs": [
        {
          "output_type": "stream",
          "name": "stdout",
          "text": [
            "To swap the keys and values in a dictionary in a functional programming style, we can use a combination of comprehension and the `map` function. Here's a Python function that performs this task:\n",
            "\n",
            "```python\n",
            "def swap_keys_values(d):\n",
            "    return {v: k for k, v in d.items()}\n",
            "\n",
            "# Example usage:\n",
            "original_dict = {'a': 1, 'b': 2, 'c': 3}\n",
            "swapped_dict = swap_keys_values(original_dict)\n",
            "print(swapped_dict)  # Output: {1: 'a', 2: 'b', 3: 'c'}\n",
            "```\n",
            "\n",
            "This function uses a dictionary comprehension which is inherently functional in nature. It constructs a new dictionary by iterating over the items of the original dictionary `d`, swapping each key `k` with its corresponding value `v`.\n",
            "\n",
            "A couple of points to consider:\n",
            "- If the original dictionary contains duplicate values, the resulting dictionary after swapping will only retain the last key corresponding to each value, since keys in a dictionary must be unique.\n",
            "- This function assumes that all values in the original dictionary are hashable, as they will become the keys in the swapped dictionary.\n"
          ]
        }
      ],
      "source": [
        "def generate_response(messages: List[Dict]) -> str:\n",
        "    \"\"\"Call LLM to get response\"\"\"\n",
        "    response = completion(\n",
        "        model=\"openai/gpt-4o\",\n",
        "        messages=messages,\n",
        "        max_tokens=1024\n",
        "    )\n",
        "    return response.choices[0].message.content\n",
        "\n",
        "\n",
        "messages = [\n",
        "    {\"role\": \"system\", \"content\": \"You are an expert software engineer that prefers functional programming.\"},\n",
        "    {\"role\": \"user\", \"content\": \"Write a function to swap the keys and values in a dictionary.\"}\n",
        "]\n",
        "\n",
        "response = generate_response(messages)\n",
        "print(response)"
      ]
    },
    {
      "cell_type": "code",
      "source": [],
      "metadata": {
        "id": "qSOnmfYgd0dK"
      },
      "execution_count": null,
      "outputs": []
    }
  ]
}